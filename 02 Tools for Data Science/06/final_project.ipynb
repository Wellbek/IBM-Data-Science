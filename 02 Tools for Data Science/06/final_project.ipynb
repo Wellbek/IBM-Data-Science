{
 "cells": [
  {
   "cell_type": "markdown",
   "id": "aadbd0a2",
   "metadata": {},
   "source": [
    "# Final Project: Data Science Notebook"
   ]
  },
  {
   "cell_type": "markdown",
   "id": "2aa97e87",
   "metadata": {},
   "source": [
    "## Introduction\n",
    "This notebook is part of the IBM Data Science course."
   ]
  },
  {
   "cell_type": "markdown",
   "id": "d59158c8",
   "metadata": {},
   "source": [
    "## Data Science Languages\n",
    "- Python\n",
    "- R\n",
    "- SQL"
   ]
  },
  {
   "cell_type": "markdown",
   "id": "c0bd17ee",
   "metadata": {},
   "source": [
    "## Data Science Libraries\n",
    "- Pandas\n",
    "- NumPy\n",
    "- Matplotlib\n",
    "- Scikit-learn\n",
    "- TensorFlow"
   ]
  },
  {
   "cell_type": "markdown",
   "id": "a0ea0eda",
   "metadata": {},
   "source": [
    "## Data Science Tools\n",
    "| Tool            | Category           | Typical Use                          |\n",
    "|-----------------|--------------------|--------------------------------------|\n",
    "| Jupyter Notebook| Notebook Environment| Development, prototyping, reports       |\n",
    "| RStudio         | IDE                | R development & analysis             |\n",
    "| VSCode          | IDE    | General coding      |\n",
    "| GitHub          | Version Control    | Version control, CI/CD, collaboration            |\n"
   ]
  },
  {
   "cell_type": "markdown",
   "id": "93824862",
   "metadata": {},
   "source": [
    "## Arithmetic Expression Examples\n",
    "Below simple multiplication and addition is shown using Python."
   ]
  },
  {
   "cell_type": "code",
   "execution_count": 3,
   "id": "4fdd3edf",
   "metadata": {},
   "outputs": [
    {
     "name": "stdout",
     "output_type": "stream",
     "text": [
      "20\n"
     ]
    }
   ],
   "source": [
    "product = 3 * 4\n",
    "sum_res = 3 + 5\n",
    "combo = product + sum_res\n",
    "\n",
    "print(combo)"
   ]
  },
  {
   "cell_type": "code",
   "execution_count": 4,
   "id": "44a847bd",
   "metadata": {},
   "outputs": [
    {
     "name": "stdout",
     "output_type": "stream",
     "text": [
      "3.3333333333333335\n"
     ]
    }
   ],
   "source": [
    "minutes = 200 \n",
    "hours = minutes / 60\n",
    "\n",
    "print(hours)"
   ]
  },
  {
   "cell_type": "markdown",
   "id": "4c5ef833",
   "metadata": {},
   "source": [
    "## Objectives\n",
    "- List popular data science languages\n",
    "- List common data science libraries\n",
    "- Present a table of data science tools\n",
    "- Demonstrate arithmetic expressions in Python\n",
    "- Convert minutes to hours with Python"
   ]
  },
  {
   "cell_type": "markdown",
   "id": "f6970e64",
   "metadata": {},
   "source": [
    "## Author\n",
    "Louis W"
   ]
  }
 ],
 "metadata": {
  "kernelspec": {
   "display_name": "Python 3",
   "language": "python",
   "name": "python3"
  },
  "language_info": {
   "codemirror_mode": {
    "name": "ipython",
    "version": 3
   },
   "file_extension": ".py",
   "mimetype": "text/x-python",
   "name": "python",
   "nbconvert_exporter": "python",
   "pygments_lexer": "ipython3",
   "version": "3.12.3"
  }
 },
 "nbformat": 4,
 "nbformat_minor": 5
}
